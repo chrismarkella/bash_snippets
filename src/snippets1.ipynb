{
 "cells": [
  {
   "cell_type": "code",
   "execution_count": 1,
   "metadata": {},
   "outputs": [
    {
     "name": "stdout",
     "output_type": "stream",
     "text": [
      "total 8\r\n",
      "drwxr-xr-x  5 krisztianmarkella  staff  160 Nov 18 10:15 \u001b[34mfruits\u001b[m\u001b[m\r\n",
      "-rw-r--r--  1 krisztianmarkella  staff  645 Nov 18 10:15 snippets1.ipynb\r\n",
      "drwxr-xr-x  4 krisztianmarkella  staff  128 Nov 18 10:15 \u001b[34mvegies\u001b[m\u001b[m\r\n"
     ]
    }
   ],
   "source": [
    "!mkdir -p fruits/{orange,apple,banana} vegies/{broccoli,carrot}\n",
    "!ls -l"
   ]
  },
  {
   "cell_type": "code",
   "execution_count": 2,
   "metadata": {},
   "outputs": [
    {
     "name": "stdout",
     "output_type": "stream",
     "text": [
      "\u001b[01;34mfruits/\u001b[00m\r\n",
      "├── \u001b[01;34mapple\u001b[00m\r\n",
      "├── \u001b[01;34mbanana\u001b[00m\r\n",
      "└── \u001b[01;34morange\u001b[00m\r\n",
      "\r\n",
      "3 directories, 0 files\r\n"
     ]
    }
   ],
   "source": [
    "!tree fruits/"
   ]
  },
  {
   "cell_type": "code",
   "execution_count": 3,
   "metadata": {},
   "outputs": [
    {
     "name": "stdout",
     "output_type": "stream",
     "text": [
      "\u001b[01;34mvegies/\u001b[00m\r\n",
      "├── \u001b[01;34mbroccoli\u001b[00m\r\n",
      "└── \u001b[01;34mcarrot\u001b[00m\r\n",
      "\r\n",
      "2 directories, 0 files\r\n"
     ]
    }
   ],
   "source": [
    "!tree vegies/"
   ]
  },
  {
   "cell_type": "code",
   "execution_count": null,
   "metadata": {},
   "outputs": [],
   "source": []
  }
 ],
 "metadata": {
  "kernelspec": {
   "display_name": "Python 3",
   "language": "python",
   "name": "python3"
  },
  "language_info": {
   "codemirror_mode": {
    "name": "ipython",
    "version": 3
   },
   "file_extension": ".py",
   "mimetype": "text/x-python",
   "name": "python",
   "nbconvert_exporter": "python",
   "pygments_lexer": "ipython3",
   "version": "3.7.3"
  }
 },
 "nbformat": 4,
 "nbformat_minor": 2
}
